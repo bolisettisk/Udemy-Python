{
 "cells": [
  {
   "cell_type": "code",
   "execution_count": 3,
   "id": "a90b726f",
   "metadata": {},
   "outputs": [],
   "source": [
    "list = [1, 2, 3, [5, 6, 8]]"
   ]
  },
  {
   "cell_type": "code",
   "execution_count": 4,
   "id": "7fb58ec7",
   "metadata": {},
   "outputs": [
    {
     "data": {
      "text/plain": [
       "[1, 2, 3, [5, 6, 8]]"
      ]
     },
     "execution_count": 4,
     "metadata": {},
     "output_type": "execute_result"
    }
   ],
   "source": [
    "list"
   ]
  },
  {
   "cell_type": "code",
   "execution_count": 6,
   "id": "e7f56956",
   "metadata": {},
   "outputs": [
    {
     "data": {
      "text/plain": [
       "6"
      ]
     },
     "execution_count": 6,
     "metadata": {},
     "output_type": "execute_result"
    }
   ],
   "source": [
    "list[3][1]"
   ]
  },
  {
   "cell_type": "code",
   "execution_count": 9,
   "id": "1e4aed30",
   "metadata": {},
   "outputs": [],
   "source": [
    "list.append(['a', 'd'])"
   ]
  },
  {
   "cell_type": "code",
   "execution_count": 10,
   "id": "9dd45466",
   "metadata": {},
   "outputs": [
    {
     "data": {
      "text/plain": [
       "[1, 2, 3, [5, 6, 8], 'e', ['a', 'd']]"
      ]
     },
     "execution_count": 10,
     "metadata": {},
     "output_type": "execute_result"
    }
   ],
   "source": [
    "list"
   ]
  },
  {
   "cell_type": "code",
   "execution_count": 13,
   "id": "961ac112",
   "metadata": {},
   "outputs": [
    {
     "data": {
      "text/plain": [
       "[2, 3, [5, 6, 8], 'e', ['a', 'd']]"
      ]
     },
     "execution_count": 13,
     "metadata": {},
     "output_type": "execute_result"
    }
   ],
   "source": [
    "list[1:]"
   ]
  },
  {
   "cell_type": "code",
   "execution_count": 19,
   "id": "23707f99",
   "metadata": {},
   "outputs": [],
   "source": [
    "dic = {'key1': [1, 4], 'key2': 4}"
   ]
  },
  {
   "cell_type": "code",
   "execution_count": 20,
   "id": "f29e0bfb",
   "metadata": {},
   "outputs": [
    {
     "data": {
      "text/plain": [
       "{'key1': [1, 4], 'key2': 4}"
      ]
     },
     "execution_count": 20,
     "metadata": {},
     "output_type": "execute_result"
    }
   ],
   "source": [
    "dic"
   ]
  },
  {
   "cell_type": "code",
   "execution_count": 22,
   "id": "dbb2017c",
   "metadata": {},
   "outputs": [
    {
     "data": {
      "text/plain": [
       "4"
      ]
     },
     "execution_count": 22,
     "metadata": {},
     "output_type": "execute_result"
    }
   ],
   "source": [
    "dic['key1'][1]"
   ]
  },
  {
   "cell_type": "code",
   "execution_count": null,
   "id": "5781751b",
   "metadata": {},
   "outputs": [],
   "source": []
  }
 ],
 "metadata": {
  "kernelspec": {
   "display_name": "Python 3 (ipykernel)",
   "language": "python",
   "name": "python3"
  },
  "language_info": {
   "codemirror_mode": {
    "name": "ipython",
    "version": 3
   },
   "file_extension": ".py",
   "mimetype": "text/x-python",
   "name": "python",
   "nbconvert_exporter": "python",
   "pygments_lexer": "ipython3",
   "version": "3.9.7"
  }
 },
 "nbformat": 4,
 "nbformat_minor": 5
}
